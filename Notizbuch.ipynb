{
 "cells": [
  {
   "cell_type": "markdown",
   "id": "fe9d979c",
   "metadata": {},
   "source": [
    "# Basics Übungen"
   ]
  },
  {
   "cell_type": "markdown",
   "id": "212d2e57",
   "metadata": {},
   "source": [
    "1. Übung Algebraische Operatoren und print Befehel üben.\n"
   ]
  },
  {
   "cell_type": "code",
   "execution_count": null,
   "id": "a650b6df",
   "metadata": {},
   "outputs": [
    {
     "name": "stdout",
     "output_type": "stream",
     "text": [
      "Meine einzigartigen Steine:  {'sapphire', 'opal', 'emerald', 'diamond', 'ruby', 'amethyst'}\n"
     ]
    }
   ],
   "source": [
    "gemstones = [\"ruby\", \"diamond\", \"emerald\", \"sapphire\", \"amethyst\"]\n",
    "# print(\"Für mein bracelett sind folgende Steine vorgesehen: \", gemstones)\n",
    "\n",
    "gemstones.append(\"opal\")\n",
    "#print(\"neuer Stand der Dinge \", gemstones)\n",
    "\n",
    "inventory = {\"ruby\": 1, \"diamond\": 2, \"emerald\": 3, \"sapphiere\": 4, \"ametyst\": 5}\n",
    "inventory[\"opal\"] = 6\n",
    "#print(\"Mein Inventar: \", inventory)\n",
    "\n",
    "Schmuckstück = (\"Ruby\", \"Diamond\", \"Emerald\", \"Sapphire\", \"Amethyst\")\n",
    "#print(\"Mein Schmuckstück: \", Schmuckstück)\n",
    "\n",
    "uniques = {\"ruby\", \"diamond\", \"emerald\", \"sapphire\", \"amethyst\", \"ruby\", \"diamond\"}\n",
    "uniques.add(\"opal\")\n",
    "print(\"Meine einzigartigen Steine: \", uniques)\n",
    "\n",
    "\n"
   ]
  },
  {
   "cell_type": "code",
   "execution_count": 41,
   "id": "ded6be02",
   "metadata": {},
   "outputs": [
    {
     "data": {
      "text/plain": [
       "-4"
      ]
     },
     "execution_count": 41,
     "metadata": {},
     "output_type": "execute_result"
    }
   ],
   "source": [
    "-10 // 3"
   ]
  }
 ],
 "metadata": {
  "kernelspec": {
   "display_name": ".venv",
   "language": "python",
   "name": "python3"
  },
  "language_info": {
   "codemirror_mode": {
    "name": "ipython",
    "version": 3
   },
   "file_extension": ".py",
   "mimetype": "text/x-python",
   "name": "python",
   "nbconvert_exporter": "python",
   "pygments_lexer": "ipython3",
   "version": "3.13.7"
  }
 },
 "nbformat": 4,
 "nbformat_minor": 5
}
